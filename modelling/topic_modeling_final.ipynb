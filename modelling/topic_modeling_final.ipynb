{
 "cells": [
  {
   "cell_type": "code",
   "execution_count": 1,
   "id": "33e2be19",
   "metadata": {},
   "outputs": [],
   "source": [
    "import pandas as pd\n",
    "from sklearn.feature_extraction.text import TfidfVectorizer, CountVectorizer\n",
    "from sklearn.decomposition import NMF, LatentDirichletAllocation"
   ]
  },
  {
   "cell_type": "code",
   "execution_count": 3,
   "id": "be839f29",
   "metadata": {},
   "outputs": [],
   "source": [
    "import konlpy\n",
    "from konlpy.tag import *\n",
    "import ipynb\n",
    "#import utils_parser as parser"
   ]
  },
  {
   "cell_type": "code",
   "execution_count": 4,
   "id": "d4fbcd6a",
   "metadata": {},
   "outputs": [],
   "source": [
    "# 데이터 불러오기\n",
    "data = pd.read_csv('C:/Users/82104/Documents/Sessac/자연어처리/가상환경/1st_project/data/cleaned_movie_review.csv', index_col = 0)"
   ]
  },
  {
   "cell_type": "markdown",
   "id": "0ae0ac4e",
   "metadata": {},
   "source": [
    "## NMF (Non - Neagtive Matric Factorization, 음수 미포함 행렬 분해)"
   ]
  },
  {
   "cell_type": "code",
   "execution_count": 55,
   "id": "a068a60c",
   "metadata": {},
   "outputs": [],
   "source": [
    "# tfidf 모델 생성 및 fit, transform\n",
    "tfidf = TfidfVectorizer(max_df = 1, min_df = 1, ngram_range= (1,3)) # ngram_range -> 1개의 단어 묶음 부터 3개의 단어 묶음 까지 처리\n",
    "dtm = tfidf.fit_transform(data['review'])\n",
    "\n",
    "# NMF모델 생성 및 fit\n",
    "nmf = NMF(n_components = 10)  #10개의 topic으로 나눔\n",
    "nmf.fit(dtm)\n",
    "\n",
    "# 주제어 선정\n",
    "single_topic = nmf.components_[0].argsort()\n",
    "\n",
    "# 가장 연관이 높음 10개의 주제어 선정\n",
    "top_word_indices = single_topic.argsort()[-10:]\n",
    "\n",
    "topic_result = nmf.transform(dtm)\n",
    "\n",
    "# Topic 컬럼 생성\n",
    "data['Topic_nmf'] = topic_result.argmax(axis = 1)"
   ]
  },
  {
   "cell_type": "markdown",
   "id": "6b910bb8",
   "metadata": {},
   "source": [
    "## LDA(Laten Dirichlet Allocation, 잠재적 드리클레 할당)"
   ]
  },
  {
   "cell_type": "code",
   "execution_count": null,
   "id": "9724131e",
   "metadata": {},
   "outputs": [],
   "source": [
    "# countvectorizer 모델 생성 및 fit\n",
    "cv = CountVectorizer(max_df = 0.95, min_df = 2)\n",
    "dtm = cv.fit_transform(data['review'])\n",
    "\n",
    "# LDA 모델 생성 및 fit\n",
    "lda = LatentDirichletAllocation(n_components = 10)   #10개의 topic으로 나눔\n",
    "lda.fit(dtm)\n",
    "\n",
    "# 주제어 선정\n",
    "single_topic = lda.components_[0].argsort()\n",
    "\n",
    "# 가장 연관이 높음 10개의 주제어 선정\n",
    "top_word_indices = single_topic.argsort()[-10:]\n",
    "\n",
    "# lda transform\n",
    "topic_result = lda.transform(dtm)\n",
    "\n",
    "# Topic 컬럼 생성\n",
    "data['Topic_lda'] = topic_result.argmax(axis = 1)"
   ]
  },
  {
   "cell_type": "code",
   "execution_count": null,
   "id": "751d1f15",
   "metadata": {},
   "outputs": [],
   "source": [
    "# 새로운 csv파일 생성\n",
    "data.to_csv('moive_nmf_lda.csv')"
   ]
  }
 ],
 "metadata": {
  "kernelspec": {
   "display_name": "Python 3 (ipykernel)",
   "language": "python",
   "name": "python3"
  },
  "language_info": {
   "codemirror_mode": {
    "name": "ipython",
    "version": 3
   },
   "file_extension": ".py",
   "mimetype": "text/x-python",
   "name": "python",
   "nbconvert_exporter": "python",
   "pygments_lexer": "ipython3",
   "version": "3.7.11"
  }
 },
 "nbformat": 4,
 "nbformat_minor": 5
}
