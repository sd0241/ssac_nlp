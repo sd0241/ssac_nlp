{
 "cells": [
  {
   "cell_type": "code",
   "execution_count": null,
   "metadata": {},
   "outputs": [],
   "source": [
    "import pandas as pd\n",
    "import numpy as np\n",
    "from konlpy.tag import Komoran\n",
    "import re\n",
    "\n",
    "TAG_NORMAL = {'NA', 'NF', 'NNG', 'NNP', 'XR'}\n",
    "\n",
    "\n",
    "df = pd.read_csv('movie_review_nmf_2014_2020.csv', index_col=0)\n",
    "\n",
    "komoran = Komoran()\n",
    "\n",
    "cleaned_sentences = []\n",
    "codes = []\n",
    "count = 0\n",
    "for sentence in df.review:\n",
    "    count += 1\n",
    "    if count % 20 == 0: # 10단위로 진행결과 표시, x % y == 0 x/y나눈 후 나머지가 없는 것\n",
    "        print('.', end= ' ')\n",
    "    if count % 100 == 0: # 100단위로 진행결과 표시\n",
    "        print(count)\n",
    "    sentence = re.sub('[^가-힣]', ' ', str(sentence)) # 한글이 아닌 문자는 공백으로 표시\n",
    "    sentence = re.sub(r'^\\s*$', ' ', sentence)\n",
    "    if sentence == ' ':\n",
    "        continue\n",
    "    token = komoran.pos(sentence)  # 품사 별로 token 화\n",
    "    df_token = pd.DataFrame(token, columns=['word', 'tag'])\n",
    "    df_cleaned_token = df_token[df_token['tag'].isin(TAG_NORMAL)]['word']  # TAG_NORMAL 에 있는 품사만 뽑아내는 작업\n",
    "    cleaned_sentence: str = ' '.join(df_cleaned_token)  # 단어들 이어붙이기\n",
    "\n",
    "\n",
    "df['cleaned_review'] = cleaned_sentences\n",
    "print(df.head())\n",
    "df = df[['title', 'cleaned_review']]\n",
    "\n",
    "df.to_csv('./crawling/cleaned_movie_review_16.csv') # 최종 movie_review 데이터 저장"
   ]
  }
 ],
 "metadata": {
  "interpreter": {
   "hash": "c8fc40b47b63e1b27f1f9eaf89a17673f90da92f9d17c9e4cf4442d8bab0966d"
  },
  "kernelspec": {
   "display_name": "Python 3.7.11 ('xx')",
   "language": "python",
   "name": "python3"
  },
  "language_info": {
   "name": "python",
   "version": "3.7.11"
  },
  "orig_nbformat": 4
 },
 "nbformat": 4,
 "nbformat_minor": 2
}
